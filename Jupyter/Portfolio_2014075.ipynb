{
 "cells": [
  {
   "cell_type": "code",
   "execution_count": 24,
   "metadata": {},
   "outputs": [
    {
     "name": "stdout",
     "output_type": "stream",
     "text": [
      "is a prime number\n"
     ]
    }
   ],
   "source": [
    "## 1.1\n",
    "\n",
    "n = int(input(\"Enter a number:\"))\n",
    "# int means integer\n",
    "if n <= 1:\n",
    "    print(\"not a prime number\")\n",
    "else:\n",
    "    # this is checking and automatically printing non prime if number is 1 or less\n",
    "    # next will be to define how to check prime numbers when above one\n",
    "    for i in range(2, int(n**0.5) + 1):\n",
    "        # this is getting values in a range between 2 and the square rroot of number\n",
    "        # this is to get a divisor much quicker than checking every number up to  n\n",
    "        if n % i == 0:\n",
    "            # n % i means n divided by i\n",
    "            # == 0 means that when n is divided by i there is no remainder\n",
    "            # this will imply that the number is not a prime\n",
    "            print(\"not a prime number\")\n",
    "            break\n",
    "        else:\n",
    "            print(\"is a prime number\")\n",
    "\n",
    "\n",
    "\n"
   ]
  },
  {
   "cell_type": "code",
   "execution_count": null,
   "metadata": {},
   "outputs": [],
   "source": []
  }
 ],
 "metadata": {
  "kernelspec": {
   "display_name": "Python 3",
   "language": "python",
   "name": "python3"
  },
  "language_info": {
   "codemirror_mode": {
    "name": "ipython",
    "version": 3
   },
   "file_extension": ".py",
   "mimetype": "text/x-python",
   "name": "python",
   "nbconvert_exporter": "python",
   "pygments_lexer": "ipython3",
   "version": "3.10.12"
  }
 },
 "nbformat": 4,
 "nbformat_minor": 2
}
