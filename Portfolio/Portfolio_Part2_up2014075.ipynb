{
 "cells": [
  {
   "cell_type": "markdown",
   "id": "ed73beec",
   "metadata": {},
   "source": [
    "# Part 2"
   ]
  },
  {
   "cell_type": "markdown",
   "id": "a5ecd35b",
   "metadata": {},
   "source": [
    "### Exercise 1\n",
    "#### **Task**:\n",
    "**Write a code for generating Pandas DataFrame with column and row names and populate it with\n",
    "random numbers, see example below. Number of columns and rows is your choice. Display\n",
    "summary, shape and statistics of the DaraFrame.**\n",
    "\n",
    "Code:"
   ]
  },
  {
   "cell_type": "code",
   "execution_count": 12,
   "id": "939f8f2b",
   "metadata": {},
   "outputs": [
    {
     "name": "stdout",
     "output_type": "stream",
     "text": [
      "    Random Numbers 1  Random Numbers 2\n",
      "1                  9                42\n",
      "2                 10                85\n",
      "3                  8                86\n",
      "4                  3                56\n",
      "5                  3                18\n",
      "6                  3                14\n",
      "7                  2                 6\n",
      "8                  5                17\n",
      "9                  7                41\n",
      "10                 9                38\n",
      "Summary:\n",
      " <bound method DataFrame.info of     Random Numbers 1  Random Numbers 2\n",
      "1                  9                42\n",
      "2                 10                85\n",
      "3                  8                86\n",
      "4                  3                56\n",
      "5                  3                18\n",
      "6                  3                14\n",
      "7                  2                 6\n",
      "8                  5                17\n",
      "9                  7                41\n",
      "10                 9                38>\n",
      "Shape:\n",
      " (10, 2)\n",
      "Statistics:\n",
      "        Random Numbers 1  Random Numbers 2\n",
      "count         10.000000         10.000000\n",
      "mean           5.900000         40.300000\n",
      "std            3.034981         28.382506\n",
      "min            2.000000          6.000000\n",
      "25%            3.000000         17.250000\n",
      "50%            6.000000         39.500000\n",
      "75%            8.750000         52.500000\n",
      "max           10.000000         86.000000\n"
     ]
    }
   ],
   "source": [
    "## Exercise 1\n",
    "import pandas as pd\n",
    "import numpy as np\n",
    "\n",
    "Random_numbers = {\n",
    "    'Random Numbers 1': np.random.randint(1, 11, size=10),\n",
    "    'Random Numbers 2': np.random.randint(1, 101, size=10)\n",
    "}\n",
    "\n",
    "df = pd.DataFrame(Random_numbers)\n",
    "\n",
    "df.index = range(1, 11)\n",
    "\n",
    "print(df)\n",
    "\n",
    "print('Summary:\\n', df.info)\n",
    "print('Shape:\\n', df.shape)\n",
    "print('Statistics:\\n', df.describe(include='all'))"
   ]
  },
  {
   "cell_type": "code",
   "execution_count": 20,
   "id": "673febb3",
   "metadata": {},
   "outputs": [
    {
     "name": "stderr",
     "output_type": "stream",
     "text": [
      "/tmp/ipykernel_21945/1713506684.py:10: MatplotlibDeprecationWarning: The 'labels' parameter of boxplot() has been renamed 'tick_labels' since Matplotlib 3.9; support for the old name will be dropped in 3.11.\n",
      "  plt.boxplot(Iris_dimensions.values, labels=Iris_dimensions.columns)\n"
     ]
    },
    {
     "data": {
      "image/png": "[encoded data removed]",
      "text/plain": [
       "<Figure size 640x480 with 1 Axes>"
      ]
     },
     "metadata": {},
     "output_type": "display_data"
    }
   ],
   "source": [
    "## Exercise 2\n",
    "\n",
    "import matplotlib.pyplot as plt\n",
    "import seaborn as sns\n",
    "\n",
    "iris = sns.load_dataset('iris')\n",
    "\n",
    "Iris_dimensions = iris.select_dtypes(include='number')\n",
    "\n",
    "plt.boxplot(Iris_dimensions.values, labels=Iris_dimensions.columns)\n",
    "plt.title('Box Plot of Iris Flower Dimensions')\n",
    "plt.grid(True)\n",
    "\n",
    "plt.show()\n",
    "\n",
    "## https://seaborn.pydata.org/examples/grouped_boxplot.html"
   ]
  }
 ],
 "metadata": {
  "kernelspec": {
   "display_name": "Python 3",
   "language": "python",
   "name": "python3"
  },
  "language_info": {
   "codemirror_mode": {
    "name": "ipython",
    "version": 3
   },
   "file_extension": ".py",
   "mimetype": "text/x-python",
   "name": "python",
   "nbconvert_exporter": "python",
   "pygments_lexer": "ipython3",
   "version": "3.12.1"
  }
 },
 "nbformat": 4,
 "nbformat_minor": 5
}
