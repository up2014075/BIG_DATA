{
 "cells": [
  {
   "cell_type": "code",
   "execution_count": 30,
   "metadata": {},
   "outputs": [
    {
     "name": "stdout",
     "output_type": "stream",
     "text": [
      "It's warmer\n"
     ]
    }
   ],
   "source": [
    "temperature_1 = int(input(\"temperature:\"))\n",
    "\n",
    "if temperature_1 <= 0:\n",
    "    print(\"It's freezing\")\n",
    "elif temperature_1  <= 10:\n",
    "    print(\"Cold\")\n",
    "elif temperature_1 <= 20:\n",
    "    print(\"Slightly cold\")\n",
    "elif temperature_1 <= 25:\n",
    "    print(\"Nice weather a t-shirt is fine.\")\n",
    "elif temperature_1 > 25:\n",
    "    print(\"It's warmer\")\n"
   ]
  },
  {
   "cell_type": "code",
   "execution_count": 31,
   "metadata": {},
   "outputs": [
    {
     "name": "stdout",
     "output_type": "stream",
     "text": [
      "apple\n",
      "cherry\n"
     ]
    }
   ],
   "source": [
    "## Loops\n",
    "## continue function skips the current iteration and continues with the next one\n",
    "fruits = [\"apple\", \"banana\", \"cherry\"]\n",
    "for x in fruits:\n",
    "  if x == \"banana\":\n",
    "    continue\n",
    "  print(x)"
   ]
  },
  {
   "cell_type": "code",
   "execution_count": 32,
   "metadata": {},
   "outputs": [
    {
     "name": "stdout",
     "output_type": "stream",
     "text": [
      "0\n",
      "1\n",
      "2\n",
      "3\n",
      "4\n",
      "5\n",
      "6\n",
      "7\n",
      "8\n",
      "9\n"
     ]
    }
   ],
   "source": [
    "## Lopps\n",
    "## Range function, doesn't include the 10\n",
    "for x in range(10):\n",
    "    print(x)"
   ]
  },
  {
   "cell_type": "code",
   "execution_count": 2,
   "metadata": {},
   "outputs": [
    {
     "name": "stdout",
     "output_type": "stream",
     "text": [
      "\n",
      "o \n",
      "o o \n",
      "o o o \n",
      "o o o o \n"
     ]
    }
   ],
   "source": [
    "## loops\n",
    "## patterns\n",
    "n = 5\n",
    "for i in range(n):\n",
    "    for j in range(i):\n",
    "        print('o', end=' ')\n",
    "    print()\n",
    "    i+=1"
   ]
  },
  {
   "cell_type": "code",
   "execution_count": null,
   "metadata": {},
   "outputs": [],
   "source": [
    "## loops\n",
    "## nested loops\n",
    "adj = [2, 3, 4]\n",
    "Variabless = "
   ]
  }
 ],
 "metadata": {
  "kernelspec": {
   "display_name": "Python 3",
   "language": "python",
   "name": "python3"
  },
  "language_info": {
   "codemirror_mode": {
    "name": "ipython",
    "version": 3
   },
   "file_extension": ".py",
   "mimetype": "text/x-python",
   "name": "python",
   "nbconvert_exporter": "python",
   "pygments_lexer": "ipython3",
   "version": "3.10.12"
  }
 },
 "nbformat": 4,
 "nbformat_minor": 2
}
