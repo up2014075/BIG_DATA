{
 "cells": [
  {
   "cell_type": "code",
   "execution_count": 24,
   "metadata": {},
   "outputs": [
    {
     "name": "stdout",
     "output_type": "stream",
     "text": [
      "is a prime number\n"
     ]
    }
   ],
   "source": [
    "## 1\n",
    "\n",
    "n = int(input(\"Enter a number:\"))\n",
    "# int means integer\n",
    "if n <= 1:\n",
    "    print(\"not a prime number\")\n",
    "else:\n",
    "    # this is checking and automatically printing non prime if number is 1 or less\n",
    "    # next will be to define how to check prime numbers when above one\n",
    "    for i in range(2, int(n**0.5) + 1):\n",
    "        # this is getting values in a range between 2 and the square rroot of number\n",
    "        # this is to get a divisor much quicker than checking every number up to  n\n",
    "        if n % i == 0:\n",
    "            # n % i means n divided by i\n",
    "            # == 0 means that when n is divided by i there is no remainder\n",
    "            # this will imply that the number is not a prime\n",
    "            print(\"not a prime number\")\n",
    "            break\n",
    "        #break function is to stop the loop if the number is not a prime\n",
    "        else:\n",
    "            print(\"is a prime number\")\n",
    "\n",
    "\n",
    "\n"
   ]
  },
  {
   "cell_type": "code",
   "execution_count": 5,
   "metadata": {},
   "outputs": [
    {
     "name": "stdout",
     "output_type": "stream",
     "text": [
      "[0, 1, 1, 2, 3, 5, 8, 13, 21, 34, 55]\n"
     ]
    }
   ],
   "source": [
    "## 2\n",
    "# fibonacci sequence\n",
    "\n",
    "n = int(input(\"Enter Number of Terms in sequence:\"))\n",
    "sequence = [0,1]\n",
    "for x in range(2,n):\n",
    "    Next_term= sequence[-1] + sequence[-2]\n",
    "    # next term = current term + previous term\n",
    "    sequence.append(Next_term)\n",
    "print(sequence)"
   ]
  },
  {
   "cell_type": "code",
   "execution_count": 4,
   "metadata": {},
   "outputs": [
    {
     "name": "stdout",
     "output_type": "stream",
     "text": [
      "o o o o o \n",
      "o o o o \n",
      "o o o \n",
      "o o \n",
      "o \n"
     ]
    }
   ],
   "source": [
    "## 3\n",
    "\n",
    "n = 5\n",
    "for i in range(n,0,-1):\n",
    "    # same as programe learnt in loops lecture\n",
    "    # changed code from range(n) to range(n,0,-1)\n",
    "    # this reverses the range  from 0, 1, 2, 3, 4, 5 to 5, 4, 3, 2, 1, 0\n",
    "    for j in range(i):\n",
    "        print('o', end=' ')\n",
    "    print()\n",
    "    i+=1"
   ]
  },
  {
   "cell_type": "code",
   "execution_count": 7,
   "metadata": {},
   "outputs": [
    {
     "name": "stdout",
     "output_type": "stream",
     "text": [
      "dlrow olleh\n"
     ]
    }
   ],
   "source": [
    "## 4 \n",
    "\n",
    "User_input = input(\"Enter a string:\")\n",
    "Reversed_output = User_input[::-1]\n",
    "# uses slicing - this in simple terms means that the input (letters or numbers) are registered as a sequence\n",
    "# example: \"hello world\" -> ['h', 'e', 'l', 'l', 'o', ' ', 'w', 'o', 'r', 'l', 'd'] -> [1, 2, 3, 4, 5, 6, 7, 8, 9, 10, 11]\n",
    "# spaces are included\n",
    "\n",
    "# the -1 means that the value is read from the end of the sequence in reverse\n",
    "# example: \"hello world\", the list will begin from d and end at h\n",
    "# the format of [::-1] is just [start:stop:step] since there is no defined start or stop and just a step of -1 the whole list is reversed\n",
    "\n",
    "print(Reversed_output)\n"
   ]
  }
 ],
 "metadata": {
  "kernelspec": {
   "display_name": "Python 3",
   "language": "python",
   "name": "python3"
  },
  "language_info": {
   "codemirror_mode": {
    "name": "ipython",
    "version": 3
   },
   "file_extension": ".py",
   "mimetype": "text/x-python",
   "name": "python",
   "nbconvert_exporter": "python",
   "pygments_lexer": "ipython3",
   "version": "3.10.12"
  }
 },
 "nbformat": 4,
 "nbformat_minor": 2
}
